{
  "nbformat": 4,
  "nbformat_minor": 0,
  "metadata": {
    "colab": {
      "provenance": []
    },
    "kernelspec": {
      "name": "python3",
      "display_name": "Python 3"
    },
    "language_info": {
      "name": "python"
    }
  },
  "cells": [
    {
      "cell_type": "markdown",
      "source": [
        "# **Task 1 | GPT-2 Model & Checkpoints**\n",
        "\n",
        "GPT2-small model (with 125 million parameters) utilizes a 12-layer Decoder Only Transformer Architecture.\n",
        "\n",
        "![image.png](data:image/png;base64,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)\n",
        "\n",
        "\n",
        "As can be seen from the GPT Architecture, to implement it, we will first need to implement Layer Norm, Masked Multi Self Attention and Feed Forward layer."
      ],
      "metadata": {
        "id": "Ka5RArkNh4yP"
      }
    },
    {
      "cell_type": "code",
      "source": [
        "import torch.nn as nn\n",
        "import torch\n",
        "import copy\n",
        "import math\n",
        "import numpy as np\n",
        "import torch.nn.functional as F\n",
        "\n",
        "from torch.nn.parameter import Parameter\n",
        "from torch.nn.modules import ModuleList\n",
        "from dataclasses import dataclass\n",
        "\n"
      ],
      "metadata": {
        "id": "D9mAD8bPRiNH"
      },
      "execution_count": null,
      "outputs": []
    },
    {
      "cell_type": "code",
      "source": [
        "device = torch.device(\"cuda\" if torch.cuda.is_available() else \"cpu\")"
      ],
      "metadata": {
        "id": "ywDaj8xQhB1k"
      },
      "execution_count": null,
      "outputs": []
    },
    {
      "cell_type": "code",
      "source": [
        "class LayerNorm(nn.Module):\n",
        "\n",
        "    def __init__(self, hidden_size, epsilon=1e-12):\n",
        "      \"\"\"\n",
        "      Initialize LayerNorm module.\n",
        "      \"\"\"\n",
        "      super().__init__()\n",
        "\n",
        "      # Learnable weight parameter for scaling.\n",
        "      self.weight = nn.Parameter(torch.ones(hidden_size))\n",
        "\n",
        "      # Learnable bias parameter for shifting.\n",
        "      self.bias = nn.Parameter(torch.zeros(hidden_size))\n",
        "\n",
        "      # Small value to avoid division by zero in normalization.\n",
        "      self.epsilon = epsilon\n",
        "\n",
        "    def forward(self, x):\n",
        "\n",
        "      # Compute mean and variance along the last dimension.\n",
        "      u = x.mean(-1, keepdim=True)\n",
        "      s = (x - u).pow(2).mean(-1, keepdim=True)\n",
        "\n",
        "      # Normalize the input tensor.\n",
        "      x = (x - u) / torch.sqrt(s + self.epsilon)\n",
        "\n",
        "      # Scale and shift using learnable parameters.\n",
        "      return self.weight * x + self.bias"
      ],
      "metadata": {
        "id": "enLLYvtdWiuh"
      },
      "execution_count": null,
      "outputs": []
    },
    {
      "cell_type": "markdown",
      "source": [
        "To split the query, key and value matrices successfully for the Attention Layer, we use CONV1D layer that returns the tensor's dimension to be 3 times of the initial size."
      ],
      "metadata": {
        "id": "IQi2UL8qqW2A"
      }
    },
    {
      "cell_type": "code",
      "source": [
        "class Conv1D(nn.Module):\n",
        "    def __init__(self, nx, nf):\n",
        "        '''\n",
        "        nx: Number of input features.\n",
        "        nf: Number of filters (output channels).\n",
        "        '''\n",
        "        super().__init__()\n",
        "        self.nf = nf\n",
        "        #intialising an empty matrix as weights for size of (nx)X(nf)\n",
        "        w = torch.empty(nx, nf)\n",
        "        #initialising these weights as normal distribution\n",
        "        nn.init.normal_(w, std=0.02)\n",
        "        #calculating the weights and biases by encoding them using nn.Parameter\n",
        "        self.weight = nn.Parameter(w)\n",
        "        self.bias = nn.Parameter(torch.zeros(nf))\n",
        "\n",
        "    def forward(self, x):\n",
        "        '''x:The input tensor'''\n",
        "        #this size output is summation of x second dimension and the nf dimension\n",
        "        size_out = x.size()[:-1] + (self.nf,)\n",
        "        # dot multiplying Q,K(transpose) and V\n",
        "        x = torch.addmm(self.bias, x.view(-1, x.size(-1)), self.weight)#x.view helps in taking the transpose out\n",
        "        x = x.view(*size_out)\n",
        "        return x"
      ],
      "metadata": {
        "id": "IA2GLIrnXC3M"
      },
      "execution_count": null,
      "outputs": []
    },
    {
      "cell_type": "code",
      "source": [
        "d_model = 768\n",
        "conv1d  = Conv1D(d_model, d_model*3)\n",
        "x = torch.rand(1,4,d_model) # A random input tensor for testing out our model\n",
        "x = conv1d(x)\n",
        "\n",
        "query, key, value = x.split(d_model, dim=-1)# here we can split our output attention into quey, key and value\n",
        "\n",
        "query.shape, key.shape, value.shape"
      ],
      "metadata": {
        "colab": {
          "base_uri": "https://localhost:8080/"
        },
        "id": "LUbQPBgRhHus",
        "outputId": "994274e3-50bb-40f4-ce56-58658833e4eb"
      },
      "execution_count": null,
      "outputs": [
        {
          "output_type": "execute_result",
          "data": {
            "text/plain": [
              "(torch.Size([1, 4, 768]), torch.Size([1, 4, 768]), torch.Size([1, 4, 768]))"
            ]
          },
          "metadata": {},
          "execution_count": 5
        }
      ]
    },
    {
      "cell_type": "markdown",
      "source": [
        "The Feedforward network, is a normal neural network that accepts the outputs from the ATTENTION layer (768), casts them to nx (768*4) dimension, adds an activation function self.act (GELU), casts them back to d_model (768) and adds dropout regularization(0.1)."
      ],
      "metadata": {
        "id": "F0gFL6W5vfvJ"
      }
    },
    {
      "cell_type": "code",
      "source": [
        "class FeedForward(nn.Module):\n",
        "    def __init__(self, dropout, d_model=768, nx=768*4):\n",
        "        super().__init__()\n",
        "        self.c_fc    = Conv1D(d_model, nx)\n",
        "        self.c_proj  = Conv1D(nx, d_model)\n",
        "        self.act     = F.gelu\n",
        "        self.dropout = nn.Dropout(dropout)\n",
        "\n",
        "    def forward(self, x):\n",
        "        return self.dropout(self.c_proj(self.act(self.c_fc(x))))"
      ],
      "metadata": {
        "id": "emM2PLrfm_cz"
      },
      "execution_count": null,
      "outputs": []
    },
    {
      "cell_type": "markdown",
      "source": [
        "Scaled Dot-Product Attention: The attention is a function of a query (Q) and set of key (K) and value (V) pairs. To handle longer sequences, we modify the multi-head self-attention of the Transformer to reduce memory usage by limiting the dot products between Q and K in:\n",
        "\n",
        "![image.png](data:image/png;base64,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)\n",
        "\n",
        "where dk is dimension\n",
        "\n"
      ],
      "metadata": {
        "id": "l1nAwaGIpVJ0"
      }
    },
    {
      "cell_type": "markdown",
      "source": [
        "Multi-head Attention: It is a module for attention mechanisms which runs through an attention mechanism several times in parallel. The independent attention outputs are then concatenated and linearly transformed into the expected dimension.\n",
        "\n",
        "![image.png](data:image/png;base64,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)\n",
        "\n",
        "![image.png](data:image/png;base64,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)\n",
        "\n",
        "\n"
      ],
      "metadata": {
        "id": "BZ6sOQr-uqoQ"
      }
    },
    {
      "cell_type": "code",
      "source": [
        "class MultiHeadAttention(nn.Module):\n",
        "    def __init__(self, d_model=768, n_head=12, n_ctx=1024, d_head=64, bias=True, scale=False):\n",
        "        '''Constructor funtion\n",
        "        Params:\n",
        "        d_model:The dimension that needs to be feed into our model\n",
        "        n_head:The number of heads for attention\n",
        "        n_ctx:a parameters for buffer registry for bias\n",
        "        d_head:the dimension head output\n",
        "        bias:A bool for including or not including bias\n",
        "        scale: Whether to scale the attention scores by the square root of the dimension of the queries(use sqrt(dk) or not) \"\n",
        "        '''\n",
        "        super().__init__()\n",
        "        self.n_head  = n_head\n",
        "        self.d_model = d_model\n",
        "        self.c_attn  = Conv1D(d_model, d_model*3)\n",
        "        self.scale   = scale\n",
        "        self.softmax = nn.Softmax(dim=-1)\n",
        "        self.register_buffer(\"bias\", torch.tril(torch.ones(n_ctx, n_ctx)).view(1, 1, n_ctx, n_ctx))\n",
        "        self.dropout = nn.Dropout(0.1)\n",
        "        self.c_proj  = Conv1D(d_model, d_model)\n",
        "\n",
        "    def split_heads(self, x):\n",
        "        \"\"\"\n",
        "        spliting inyo given number of heads and then returning\n",
        "        return shape [`batch`, `head`, `sequence`, `features`]\n",
        "        \"\"\"\n",
        "        new_shape = x.size()[:-1] + (self.n_head, x.size(-1)//self.n_head)\n",
        "        x = x.view(*new_shape)\n",
        "        return x.permute(0, 2, 1, 3)\n",
        "\n",
        "    def _attn(self, q, k, v, attn_mask=None):\n",
        "        \"\"\"The main attention function\n",
        "        That claculates the attention using our dot product formula\"\"\"\n",
        "        scores  = torch.matmul(q, k.transpose(-2, -1))# dot multiplication between q and k transpose\n",
        "        if self.scale: scores = scores/math.sqrt(v.size(-1))# scaling it by dividing by sqrt(dk)\n",
        "        nd, ns  = scores.size(-2), scores.size(-1)\n",
        "        if attn_mask is not None: scores = scores + attn_mask# adding scores with attention mask values\n",
        "        scores  = self.softmax(scores)# adding softmax values\n",
        "        scores  = self.dropout(scores) #dropout of 0.1 as mentioned\n",
        "        outputs = torch.matmul(scores, v) # now the final matrix multiplication between score and V\n",
        "        return outputs\n",
        "\n",
        "    def merge_heads(self, x):\n",
        "        # merging the attention heads into one\n",
        "        x = x.permute(0, 2, 1, 3).contiguous()\n",
        "        new_shape = x.size()[:-2] + (x.size(-2)*x.size(-1),)\n",
        "        return x.view(*new_shape)\n",
        "\n",
        "    def forward(self, x):\n",
        "        '''The feed forward function that calculates the attention, split the heads, make attention, merge heads and project out the output '''\n",
        "        x        = self.c_attn(x) #new `x` shape - `[1,3,2304]`\n",
        "        q, k, v  = x.split(self.d_model, dim=2)\n",
        "        q, k, v  = self.split_heads(q), self.split_heads(k), self.split_heads(v)\n",
        "        out      = self._attn(q, k, v)\n",
        "        out      = self.merge_heads(out)\n",
        "        out      = self.c_proj(out)\n",
        "        return out"
      ],
      "metadata": {
        "id": "05jSf9YYnJdY"
      },
      "execution_count": null,
      "outputs": []
    },
    {
      "cell_type": "markdown",
      "source": [
        "Inside a Transformer Decoder Block, we first pass the inputs to a LayerNorm followed by the first sub-block Attention. Next, we pass the outputs of this sub-block to LayerNorm again and finally to FeedForward layer."
      ],
      "metadata": {
        "id": "u3eYnp4tAw-g"
      }
    },
    {
      "cell_type": "code",
      "source": [
        "class TransformerBlock(nn.Module):\n",
        "    def __init__(self, d_model=768, n_head=12, dropout=0.1):\n",
        "        super(TransformerBlock, self).__init__()\n",
        "        self.attn        = MultiHeadAttention(d_model=768, n_head=12, d_head=64, n_ctx=1024, bias=True, scale=False)\n",
        "        self.feedforward = FeedForward(dropout=0.1, d_model=768, nx=768*4)\n",
        "        self.ln_1        = LayerNorm(d_model)\n",
        "        self.ln_2        = LayerNorm(d_model)\n",
        "\n",
        "    def forward(self, x):\n",
        "        x = x + self.attn(self.ln_1(x))\n",
        "        x = x + self.feedforward(self.ln_2(x))\n",
        "        return x"
      ],
      "metadata": {
        "id": "BA8VXNSEnL52"
      },
      "execution_count": null,
      "outputs": []
    },
    {
      "cell_type": "markdown",
      "source": [
        "Below function is to create 12 layers."
      ],
      "metadata": {
        "id": "lMm-MZLvwD9x"
      }
    },
    {
      "cell_type": "code",
      "source": [
        "def _get_clones(module, n):\n",
        "    '''Here we can make certain copies of transformers'''\n",
        "    return ModuleList([copy.deepcopy(module) for i in range(n)])"
      ],
      "metadata": {
        "id": "GKnGdiUMeHC1"
      },
      "execution_count": null,
      "outputs": []
    },
    {
      "cell_type": "markdown",
      "source": [
        "Now we will build our GPT2 Model by putting together the above implementation."
      ],
      "metadata": {
        "id": "Yz5V-j-xwP1A"
      }
    },
    {
      "cell_type": "code",
      "source": [
        "class GPT2(nn.Module):\n",
        "    def __init__(self, nlayers=12, n_ctx=1024, d_model=768, vcb_sz=50257):\n",
        "        '''nlayer:The number of times the tarnsformer needs to get cloned\n",
        "        n_ctx:The highest length that can be these to get teh string positional embeddings\n",
        "        d_model:The dimenionalities for model\n",
        "        vcb_sz:The vocablury size which can be later altered while training'''\n",
        "        super(GPT2, self).__init__()\n",
        "        self.nlayers = nlayers\n",
        "        block        = TransformerBlock(d_model=768, n_head=12, dropout=0.1)\n",
        "        self.h       = _get_clones(block, 12)\n",
        "        self.wte     = nn.Embedding(vcb_sz, d_model)\n",
        "        self.wpe     = nn.Embedding(n_ctx, d_model)\n",
        "        self.drop    = nn.Dropout(0.1)\n",
        "        self.ln_f    = LayerNorm(d_model)\n",
        "        self.out     = nn.Linear(d_model, vcb_sz, bias=False)\n",
        "        self.loss_fn = nn.CrossEntropyLoss()\n",
        "        self.init_weights()\n",
        "\n",
        "    def init_weights(self):\n",
        "        '''Initialization of weights'''\n",
        "        self.out.weight = self.wte.weight\n",
        "        self.apply(self._init_weights)\n",
        "\n",
        "    def _init_weights(self, module):\n",
        "        '''If the Linear, Embedding and Conv1D then nomrally initializing with mean and S.D'''\n",
        "        if isinstance(module, (nn.Linear, nn.Embedding, Conv1D)):\n",
        "            module.weight.data.normal_(mean=0.0, std=0.02)\n",
        "            if isinstance(module, (nn.Linear, Conv1D)) and module.bias is not None:\n",
        "                '''Data Bias zero'''\n",
        "                module.bias.data.zero_()\n",
        "        elif isinstance(module, nn.LayerNorm):\n",
        "            module.bias.data.zero_()\n",
        "            module.weight.data.fill_(1.0)\n",
        "\n",
        "    def forward(self, src, labels=None, pos_ids=None):\n",
        "        '''Adding the positional embedding, dropping, then adding inputs, logits and outputs which are being used for loss function and then adding outputs and loss'''\n",
        "        if pos_ids is None:\n",
        "            pos_ids = torch.arange(0, src.size(-1)).unsqueeze(0)\n",
        "        pos_ids = pos_ids.to(src.device)  # Ensure pos_ids is on the same device as src\n",
        "        inp = self.drop((self.wte(src) + self.wpe(pos_ids)))\n",
        "        for i in range(self.nlayers): inp = self.h[i](inp)\n",
        "        inp     = self.ln_f(inp)\n",
        "        logits  = self.out(inp)\n",
        "        outputs = (logits,) + (inp,)\n",
        "\n",
        "        if labels is not None:\n",
        "            shift_logits = logits[..., :-1, :].contiguous()\n",
        "            shift_labels = labels[..., 1:].contiguous()\n",
        "            loss = self.loss_fn(shift_logits.view(-1, shift_logits.size(-1)), shift_labels.view(-1))\n",
        "            outputs = (loss,) + outputs\n",
        "            return loss.mean()\n",
        "        return logits\n",
        "\n"
      ],
      "metadata": {
        "id": "fH_GtXHSUkmG"
      },
      "execution_count": null,
      "outputs": []
    },
    {
      "cell_type": "markdown",
      "source": [
        "**Inference: We are loading the original GPT-2 125M model checkpoints and running a sample prediction.**\n",
        "\n",
        "---\n",
        "\n"
      ],
      "metadata": {
        "id": "Z9biLv83xqv1"
      }
    },
    {
      "cell_type": "code",
      "source": [
        "# loading pretrained_weights from hugging face`.`\n",
        "\n",
        "!wget https://s3.amazonaws.com/models.huggingface.co/bert/gpt2-pytorch_model.bin ."
      ],
      "metadata": {
        "colab": {
          "base_uri": "https://localhost:8080/"
        },
        "id": "QrXYgSZdxs8w",
        "outputId": "d7bab8dd-9d3d-4d59-96e7-c58a398153eb"
      },
      "execution_count": null,
      "outputs": [
        {
          "output_type": "stream",
          "name": "stdout",
          "text": [
            "--2023-12-17 15:09:21--  https://s3.amazonaws.com/models.huggingface.co/bert/gpt2-pytorch_model.bin\n",
            "Resolving s3.amazonaws.com (s3.amazonaws.com)... 52.216.26.230, 54.231.137.248, 54.231.233.64, ...\n",
            "Connecting to s3.amazonaws.com (s3.amazonaws.com)|52.216.26.230|:443... connected.\n",
            "HTTP request sent, awaiting response... 200 OK\n",
            "Length: 548118077 (523M) [application/octet-stream]\n",
            "Saving to: ‘gpt2-pytorch_model.bin’\n",
            "\n",
            "gpt2-pytorch_model. 100%[===================>] 522.73M  37.9MB/s    in 14s     \n",
            "\n",
            "2023-12-17 15:09:34 (38.5 MB/s) - ‘gpt2-pytorch_model.bin’ saved [548118077/548118077]\n",
            "\n",
            "--2023-12-17 15:09:34--  http://./\n",
            "Resolving . (.)... failed: No address associated with hostname.\n",
            "wget: unable to resolve host address ‘.’\n",
            "FINISHED --2023-12-17 15:09:34--\n",
            "Total wall clock time: 14s\n",
            "Downloaded: 1 files, 523M in 14s (38.5 MB/s)\n"
          ]
        }
      ]
    },
    {
      "cell_type": "code",
      "source": [
        "model = GPT2()\n",
        "# load pretrained_weights from hugging face\n",
        "\n",
        "model_dict = model.state_dict() #currently with random initialization\n",
        "state_dict = torch.load(\"/content/gpt2-pytorch_model.bin\") #pretrained weights\n",
        "\n",
        "old_keys = []\n",
        "new_keys = []\n",
        "for key in state_dict.keys():\n",
        "    if \"mlp\" in key: #The hugging face state dict references the feedforward network as mlp, need to replace to `feedforward` be able to reuse these weights\n",
        "        new_key = key.replace(\"mlp\", \"feedforward\")\n",
        "        new_keys.append(new_key)\n",
        "        old_keys.append(key)\n",
        "\n",
        "for old_key, new_key in zip(old_keys, new_keys):\n",
        "    state_dict[new_key]=state_dict.pop(old_key)\n",
        "\n",
        "pretrained_dict = {k: v for k, v in state_dict.items() if k in model_dict}\n",
        "\n",
        "model_dict.update(pretrained_dict)\n",
        "model.load_state_dict(model_dict)\n",
        "model.eval() #model in inference mode as it's now initialized with pretrained weights"
      ],
      "metadata": {
        "colab": {
          "base_uri": "https://localhost:8080/"
        },
        "id": "cetW46Jrnq8r",
        "outputId": "58f43eb0-74fd-48ef-b941-37c98eefa8b3"
      },
      "execution_count": null,
      "outputs": [
        {
          "output_type": "execute_result",
          "data": {
            "text/plain": [
              "GPT2(\n",
              "  (h): ModuleList(\n",
              "    (0-11): 12 x TransformerBlock(\n",
              "      (attn): MultiHeadAttention(\n",
              "        (c_attn): Conv1D()\n",
              "        (softmax): Softmax(dim=-1)\n",
              "        (dropout): Dropout(p=0.1, inplace=False)\n",
              "        (c_proj): Conv1D()\n",
              "      )\n",
              "      (feedforward): FeedForward(\n",
              "        (c_fc): Conv1D()\n",
              "        (c_proj): Conv1D()\n",
              "        (dropout): Dropout(p=0.1, inplace=False)\n",
              "      )\n",
              "      (ln_1): LayerNorm()\n",
              "      (ln_2): LayerNorm()\n",
              "    )\n",
              "  )\n",
              "  (wte): Embedding(50257, 768)\n",
              "  (wpe): Embedding(1024, 768)\n",
              "  (drop): Dropout(p=0.1, inplace=False)\n",
              "  (ln_f): LayerNorm()\n",
              "  (out): Linear(in_features=768, out_features=50257, bias=False)\n",
              "  (loss_fn): CrossEntropyLoss()\n",
              ")"
            ]
          },
          "metadata": {},
          "execution_count": 12
        }
      ]
    },
    {
      "cell_type": "code",
      "source": [
        "from transformers import GPT2LMHeadModel,GPT2Tokenizer\n",
        "gpt2_model = GPT2LMHeadModel.from_pretrained(\"gpt2\")\n",
        "\n",
        "tokenizer = GPT2Tokenizer.from_pretrained(\"gpt2\")"
      ],
      "metadata": {
        "id": "vamBpZ_Oozo1"
      },
      "execution_count": null,
      "outputs": []
    },
    {
      "cell_type": "markdown",
      "source": [
        "Comparing our model architecture with the GPT2LMHeadModel architecture:"
      ],
      "metadata": {
        "id": "t9fyhxtOVC8l"
      }
    },
    {
      "cell_type": "code",
      "source": [
        "gpt2_num_params = sum(p.numel() for p in gpt2_model.parameters())\n",
        "demo_num_params = sum(p.numel() for p in model.parameters())\n",
        "\n",
        "if gpt2_num_params != demo_num_params:\n",
        "    print(\"Model architectures do not match.\")\n",
        "    print(f\"GPT-2 Model Parameters: {gpt2_num_params}\")\n",
        "    print(f\"Your DemoTransformer Model Parameters: {demo_num_params}\")\n",
        "else:\n",
        "    print(\"Model architectures match.\")\n"
      ],
      "metadata": {
        "colab": {
          "base_uri": "https://localhost:8080/"
        },
        "id": "3HMDjK8LoTcx",
        "outputId": "8de2f2eb-eb49-4939-9cc9-d6dea3fb1c61"
      },
      "execution_count": null,
      "outputs": [
        {
          "output_type": "stream",
          "name": "stdout",
          "text": [
            "Model architectures match.\n"
          ]
        }
      ]
    },
    {
      "cell_type": "markdown",
      "source": [
        "Inference of GPT2 model built from scratch"
      ],
      "metadata": {
        "id": "CoH7JvSWVXXV"
      }
    },
    {
      "cell_type": "code",
      "source": [
        "from transformers import GPT2Tokenizer\n",
        "tokenizer = GPT2Tokenizer.from_pretrained(\"gpt2\")\n",
        "context   = torch.tensor([tokenizer.encode(\"Hi, Contlo\")])\n",
        "\n",
        "def generate(context, ntok=20):\n",
        "    for _ in range(ntok):\n",
        "        out = model(context)\n",
        "        logits = out[:, -1, :]\n",
        "        indices_to_remove = logits < torch.topk(logits, 10)[0][..., -1, None]\n",
        "        logits[indices_to_remove] = np.NINF\n",
        "        next_tok = torch.multinomial(F.softmax(logits, dim=-1), num_samples=1).squeeze(1)\n",
        "        context = torch.cat([context, next_tok.unsqueeze(-1)], dim=-1)\n",
        "    return context\n",
        "\n",
        "out = generate(context, ntok=20)\n",
        "tokenizer.decode(out[0])"
      ],
      "metadata": {
        "colab": {
          "base_uri": "https://localhost:8080/",
          "height": 36
        },
        "id": "U34m8mVInwOf",
        "outputId": "0c7aa2d6-2881-4ab2-9b43-44cd09ed2316"
      },
      "execution_count": null,
      "outputs": [
        {
          "output_type": "execute_result",
          "data": {
            "text/plain": [
              "'Hi, Contloat\" or Loathing Never will be the \" or\" the will or \"at them and the'"
            ],
            "application/vnd.google.colaboratory.intrinsic+json": {
              "type": "string"
            }
          },
          "metadata": {},
          "execution_count": 15
        }
      ]
    },
    {
      "cell_type": "markdown",
      "source": [
        "Inference of GPT2LMHeadModel"
      ],
      "metadata": {
        "id": "BgjLdWjZVTKD"
      }
    },
    {
      "cell_type": "code",
      "source": [
        "input_text = \"Hi,Contlo\"\n",
        "input_ids = tokenizer.encode(input_text, return_tensors='pt')\n",
        "\n",
        "output = gpt2_model.generate(input_ids, max_length=50, num_beams=5, no_repeat_ngram_size=2, top_k=50)\n",
        "output_text = tokenizer.decode(output[0], skip_special_tokens=True)\n",
        "\n",
        "print(\"Input:\", input_text)\n",
        "print(\"Output:\", output_text)"
      ],
      "metadata": {
        "colab": {
          "base_uri": "https://localhost:8080/"
        },
        "id": "4wngcFdSqci1",
        "outputId": "906f0243-2c67-4fec-dda2-874c608a498c"
      },
      "execution_count": null,
      "outputs": [
        {
          "output_type": "stream",
          "name": "stderr",
          "text": [
            "The attention mask and the pad token id were not set. As a consequence, you may observe unexpected behavior. Please pass your input's `attention_mask` to obtain reliable results.\n",
            "Setting `pad_token_id` to `eos_token_id`:50256 for open-end generation.\n"
          ]
        },
        {
          "output_type": "stream",
          "name": "stdout",
          "text": [
            "Input: Hi,Contlo\n",
            "Output: Hi,Contlo. I'm sorry for the inconvenience, but I can't do anything about it.\n",
            "\n",
            "Thank you for your patience and understanding.\n"
          ]
        }
      ]
    },
    {
      "cell_type": "code",
      "source": [],
      "metadata": {
        "id": "NGKsY6oerJ8E"
      },
      "execution_count": null,
      "outputs": []
    }
  ]
}